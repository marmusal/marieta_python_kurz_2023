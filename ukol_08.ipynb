{
 "cells": [
  {
   "attachments": {},
   "cell_type": "markdown",
   "metadata": {},
   "source": [
    "ukol-08: Adopce zvířat\n",
    "Úkol můžeš odevzdat buďto jako Jupyter Notebook .ipynb, nebo jako klasický program .py.\n",
    "\n",
    "Stáhni si dataset, který obsahuje seznam zvířat k adopci v ZOO Praha. Zdroj dat je Národní katalog otevřených dat.\n",
    "\n",
    "Data si načti pomocí metody pandas.read_csv(). Pozor, nastav oddělovač na znak středníku. Využij parametr sep.\n",
    "\n",
    "Seznam se s daty. Kolik má tabulka řádek a sloupců? Jak se sloupce jmenují?\n",
    "\n",
    "Které zvíře se nachází na záznamu s indexem 34? Vypiš název tohoto zvířete v češtině a v angličtině."
   ]
  },
  {
   "cell_type": "code",
   "execution_count": 2,
   "metadata": {},
   "outputs": [
    {
     "data": {
      "text/html": [
       "<div>\n",
       "<style scoped>\n",
       "    .dataframe tbody tr th:only-of-type {\n",
       "        vertical-align: middle;\n",
       "    }\n",
       "\n",
       "    .dataframe tbody tr th {\n",
       "        vertical-align: top;\n",
       "    }\n",
       "\n",
       "    .dataframe thead th {\n",
       "        text-align: right;\n",
       "    }\n",
       "</style>\n",
       "<table border=\"1\" class=\"dataframe\">\n",
       "  <thead>\n",
       "    <tr style=\"text-align: right;\">\n",
       "      <th></th>\n",
       "      <th>id</th>\n",
       "      <th>nazev_cz</th>\n",
       "      <th>nazev_en</th>\n",
       "      <th>trida_cz</th>\n",
       "      <th>cena</th>\n",
       "      <th>k_prohlidce</th>\n",
       "    </tr>\n",
       "  </thead>\n",
       "  <tbody>\n",
       "    <tr>\n",
       "      <th>0</th>\n",
       "      <td>7</td>\n",
       "      <td>Šváb syčivý</td>\n",
       "      <td>Madagascar giant cockroach</td>\n",
       "      <td>Bezobratlí</td>\n",
       "      <td>1000</td>\n",
       "      <td>1</td>\n",
       "    </tr>\n",
       "    <tr>\n",
       "      <th>1</th>\n",
       "      <td>8</td>\n",
       "      <td>Pakobylka okřídlená</td>\n",
       "      <td>Pink-winged stick insect</td>\n",
       "      <td>Bezobratlí</td>\n",
       "      <td>1000</td>\n",
       "      <td>1</td>\n",
       "    </tr>\n",
       "    <tr>\n",
       "      <th>2</th>\n",
       "      <td>16</td>\n",
       "      <td>Tayra</td>\n",
       "      <td>Tayra</td>\n",
       "      <td>Savci</td>\n",
       "      <td>5000</td>\n",
       "      <td>1</td>\n",
       "    </tr>\n",
       "    <tr>\n",
       "      <th>3</th>\n",
       "      <td>35</td>\n",
       "      <td>Kajmanka supí</td>\n",
       "      <td>Alligator snapping turtle</td>\n",
       "      <td>Plazi</td>\n",
       "      <td>2000</td>\n",
       "      <td>1</td>\n",
       "    </tr>\n",
       "    <tr>\n",
       "      <th>4</th>\n",
       "      <td>37</td>\n",
       "      <td>Želva žlutočelá</td>\n",
       "      <td>Indochinese box turtle</td>\n",
       "      <td>Plazi</td>\n",
       "      <td>1000</td>\n",
       "      <td>1</td>\n",
       "    </tr>\n",
       "  </tbody>\n",
       "</table>\n",
       "</div>"
      ],
      "text/plain": [
       "   id             nazev_cz                     nazev_en    trida_cz  cena   \n",
       "0   7          Šváb syčivý  Madagascar giant cockroach   Bezobratlí  1000  \\\n",
       "1   8  Pakobylka okřídlená     Pink-winged stick insect  Bezobratlí  1000   \n",
       "2  16                Tayra                        Tayra       Savci  5000   \n",
       "3  35        Kajmanka supí    Alligator snapping turtle       Plazi  2000   \n",
       "4  37      Želva žlutočelá       Indochinese box turtle       Plazi  1000   \n",
       "\n",
       "   k_prohlidce  \n",
       "0            1  \n",
       "1            1  \n",
       "2            1  \n",
       "3            1  \n",
       "4            1  "
      ]
     },
     "execution_count": 2,
     "metadata": {},
     "output_type": "execute_result"
    }
   ],
   "source": [
    "import pandas\n",
    "data = pandas.read_csv('adopce-zvirat.txt', sep=';')\n",
    "data.head()  "
   ]
  },
  {
   "cell_type": "code",
   "execution_count": 3,
   "metadata": {},
   "outputs": [
    {
     "name": "stdout",
     "output_type": "stream",
     "text": [
      "Počet řádků: 513\n",
      "Počet sloupců: 6\n"
     ]
    }
   ],
   "source": [
    "pocet_radku, pocet_sloupcu = data.shape\n",
    "print(\"Počet řádků:\", pocet_radku)\n",
    "print(\"Počet sloupců:\", pocet_sloupcu)"
   ]
  },
  {
   "cell_type": "code",
   "execution_count": 9,
   "metadata": {},
   "outputs": [
    {
     "name": "stdout",
     "output_type": "stream",
     "text": [
      "Názvy sloupců:\n",
      "id\n",
      "nazev_cz\n",
      "nazev_en\n",
      "trida_cz\n",
      "cena\n",
      "k_prohlidce\n"
     ]
    }
   ],
   "source": [
    "jmena_sloupcu = data.columns\n",
    "print(\"Názvy sloupců:\")\n",
    "for jmeno in jmena_sloupcu:\n",
    "    print(jmeno)"
   ]
  },
  {
   "cell_type": "code",
   "execution_count": 14,
   "metadata": {},
   "outputs": [
    {
     "name": "stdout",
     "output_type": "stream",
     "text": [
      "Český název zvířete na záznamu 34: Ibis bílý, anglický název zvířete na záznamu 34: White ibis\n"
     ]
    }
   ],
   "source": [
    "zvire_index_34 = data.loc[34, \"nazev_cz\"]\n",
    "zvire_index_34_anglicky = data.loc[34, \"nazev_en\"]\n",
    "print(f\"Český název zvířete na záznamu 34: {zvire_index_34}, anglický název zvířete na záznamu 34: {zvire_index_34_anglicky}\")"
   ]
  }
 ],
 "metadata": {
  "kernelspec": {
   "display_name": "Python 3",
   "language": "python",
   "name": "python3"
  },
  "language_info": {
   "codemirror_mode": {
    "name": "ipython",
    "version": 3
   },
   "file_extension": ".py",
   "mimetype": "text/x-python",
   "name": "python",
   "nbconvert_exporter": "python",
   "pygments_lexer": "ipython3",
   "version": "3.9.10"
  },
  "orig_nbformat": 4
 },
 "nbformat": 4,
 "nbformat_minor": 2
}
